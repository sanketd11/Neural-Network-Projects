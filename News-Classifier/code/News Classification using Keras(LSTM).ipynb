{
 "cells": [
  {
   "cell_type": "code",
   "execution_count": 2,
   "metadata": {},
   "outputs": [
    {
     "name": "stderr",
     "output_type": "stream",
     "text": [
      "/mnt/g/DataProjects/NewsReco/env/lib/python3.6/site-packages/h5py/__init__.py:36: FutureWarning: Conversion of the second argument of issubdtype from `float` to `np.floating` is deprecated. In future, it will be treated as `np.float64 == np.dtype(float).type`.\n",
      "  from ._conv import register_converters as _register_converters\n",
      "Using TensorFlow backend.\n"
     ]
    }
   ],
   "source": [
    "import numpy as np\n",
    "import pandas as pd\n",
    "from keras.models import Sequential\n",
    "from keras.layers.core import Dense, Activation\n",
    "from keras.layers import Embedding, Flatten,LSTM\n",
    "from keras.optimizers import Adam,SGD\n",
    "from keras.utils import np_utils\n",
    "from keras.preprocessing.text import one_hot\n",
    "from keras.preprocessing.sequence import pad_sequences"
   ]
  },
  {
   "cell_type": "code",
   "execution_count": 3,
   "metadata": {},
   "outputs": [
    {
     "data": {
      "text/plain": [
       "422419"
      ]
     },
     "execution_count": 3,
     "metadata": {},
     "output_type": "execute_result"
    }
   ],
   "source": [
    "data = pd.read_csv('../data/uci-news-aggregator.csv')\n",
    "len(data)"
   ]
  },
  {
   "cell_type": "code",
   "execution_count": 5,
   "metadata": {
    "scrolled": true
   },
   "outputs": [
    {
     "data": {
      "text/plain": [
       "<matplotlib.axes._subplots.AxesSubplot at 0x7fc510ce2550>"
      ]
     },
     "execution_count": 5,
     "metadata": {},
     "output_type": "execute_result"
    },
    {
     "data": {
      "image/png": "[encoded data removed]",
      "text/plain": [
       "<matplotlib.figure.Figure at 0x7fc51ccc33c8>"
      ]
     },
     "metadata": {},
     "output_type": "display_data"
    }
   ],
   "source": [
    "data = data.sample(frac=1.0)\n",
    "data_train = data[['TITLE','CATEGORY']][0:400000]\n",
    "data_test = data[['TITLE','CATEGORY']][400000:]\n",
    "\n",
    "data_train['CATEGORY'].hist()\n",
    "data_test['CATEGORY'].hist()\n"
   ]
  },
  {
   "cell_type": "code",
   "execution_count": 6,
   "metadata": {},
   "outputs": [],
   "source": [
    "vocab_size = 1000\n",
    "max_seq_len = 25\n",
    "Hidden_1 = 128\n",
    "Categories = 4\n",
    "Optimizer = Adam()\n",
    "Epochs = 3\n",
    "Verbose = 1\n",
    "Batch_size = 5000"
   ]
  },
  {
   "cell_type": "code",
   "execution_count": 7,
   "metadata": {},
   "outputs": [],
   "source": [
    "encoded_docs = [one_hot(d, vocab_size) for d in data_train['TITLE']]\n",
    "padded_docs = pad_sequences(encoded_docs, maxlen=max_seq_len, padding='post')\n",
    "labels = pd.get_dummies(data_train['CATEGORY'])"
   ]
  },
  {
   "cell_type": "code",
   "execution_count": 8,
   "metadata": {},
   "outputs": [
    {
     "name": "stdout",
     "output_type": "stream",
     "text": [
      "_________________________________________________________________\n",
      "Layer (type)                 Output Shape              Param #   \n",
      "=================================================================\n",
      "embedding_1 (Embedding)      (None, 25, 64)            64000     \n",
      "_________________________________________________________________\n",
      "lstm_1 (LSTM)                (None, 128)               98816     \n",
      "_________________________________________________________________\n",
      "dense_1 (Dense)              (None, 4)                 516       \n",
      "=================================================================\n",
      "Total params: 163,332\n",
      "Trainable params: 163,332\n",
      "Non-trainable params: 0\n",
      "_________________________________________________________________\n",
      "None\n"
     ]
    }
   ],
   "source": [
    "model = Sequential()\n",
    "model.add(Embedding(input_dim=vocab_size, output_dim=64, input_length=max_seq_len))\n",
    "# model.add(Flatten())\n",
    "model.add(LSTM(Hidden_1))\n",
    "model.add(Dense(Categories, activation='sigmoid'))\n",
    "# compile the model\n",
    "model.compile(optimizer=Optimizer, loss='categorical_crossentropy', metrics=['acc'])\n",
    "# summarize the model\n",
    "print(model.summary())"
   ]
  },
  {
   "cell_type": "code",
   "execution_count": 9,
   "metadata": {
    "scrolled": true
   },
   "outputs": [
    {
     "name": "stdout",
     "output_type": "stream",
     "text": [
      "Epoch 1/3\n",
      "400000/400000 [==============================] - 293s 733us/step - loss: 1.2905 - acc: 0.3743\n",
      "Epoch 2/3\n",
      "400000/400000 [==============================] - 298s 745us/step - loss: 0.9904 - acc: 0.5749\n",
      "Epoch 3/3\n",
      "400000/400000 [==============================] - 284s 711us/step - loss: 0.7720 - acc: 0.7022\n",
      "400000/400000 [==============================] - 98s 244us/step\n",
      "Accuracy: 73.094000\n"
     ]
    }
   ],
   "source": [
    "# fit the model\n",
    "model.fit(padded_docs, labels, batch_size=Batch_size,epochs=Epochs, verbose=Verbose)\n",
    "# evaluate the model\n",
    "loss, accuracy = model.evaluate(padded_docs, labels, verbose= Verbose)\n",
    "print('Accuracy: %f' % (accuracy*100))"
   ]
  },
  {
   "cell_type": "code",
   "execution_count": 28,
   "metadata": {},
   "outputs": [],
   "source": [
    "model.save('../models/model_v2_lstm.h5')\n"
   ]
  },
  {
   "cell_type": "code",
   "execution_count": 21,
   "metadata": {},
   "outputs": [],
   "source": [
    "encoded_docs_test = [one_hot(d, vocab_size) for d in data_test['TITLE']]\n",
    "padded_docs_test = pad_sequences(encoded_docs_test, maxlen=max_seq_len, padding='post')\n",
    "labels_test = pd.get_dummies(data_test['CATEGORY'])"
   ]
  },
  {
   "cell_type": "code",
   "execution_count": 27,
   "metadata": {},
   "outputs": [
    {
     "name": "stdout",
     "output_type": "stream",
     "text": [
      "[[0.5499143  0.16838655 0.8155271  0.2339728 ]]\n",
      "        b  e  m  t\n",
      "243813  0  0  1  0\n",
      "[[0.08030514 0.03154697 0.01118818 0.9379537 ]]\n",
      "        b  e  m  t\n",
      "384884  0  0  0  1\n",
      "[[0.14194585 0.8353058  0.6841906  0.11958988]]\n",
      "        b  e  m  t\n",
      "348087  1  0  0  0\n",
      "[[0.17475155 0.33154544 0.8557306  0.2170541 ]]\n",
      "       b  e  m  t\n",
      "15350  0  0  1  0\n",
      "[[0.84438145 0.00809592 0.00389583 0.6092182 ]]\n",
      "        b  e  m  t\n",
      "197857  0  0  0  1\n",
      "[[0.41963905 0.7534454  0.07118313 0.12626669]]\n",
      "        b  e  m  t\n",
      "290350  1  0  0  0\n",
      "[[0.04735638 0.02551025 0.01282508 0.9327696 ]]\n",
      "        b  e  m  t\n",
      "371774  0  0  0  1\n",
      "[[0.02157919 0.00553341 0.00416548 0.9299806 ]]\n",
      "        b  e  m  t\n",
      "318019  0  0  0  1\n",
      "[[0.11975791 0.9481775  0.01865451 0.05841629]]\n",
      "        b  e  m  t\n",
      "377377  1  0  0  0\n",
      "[[0.02089472 0.00554251 0.00419761 0.93047696]]\n",
      "        b  e  m  t\n",
      "176795  0  0  0  1\n"
     ]
    }
   ],
   "source": [
    "for i in range(10):\n",
    "    pred = model.predict(np.array([padded_docs_test[i]]))\n",
    "    print(pred)\n",
    "    \n",
    "    print(labels_test[i:i+1])"
   ]
  }
 ],
 "metadata": {
  "kernelspec": {
   "display_name": "env",
   "language": "python",
   "name": "env"
  }
 },
 "nbformat": 4,
 "nbformat_minor": 2
}
