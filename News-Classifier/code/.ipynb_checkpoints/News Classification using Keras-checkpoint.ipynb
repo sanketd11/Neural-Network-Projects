{
 "cells": [
  {
   "cell_type": "code",
   "execution_count": 59,
   "metadata": {},
   "outputs": [],
   "source": [
    "import numpy as np\n",
    "import pandas as pd\n",
    "from keras.models import Sequential\n",
    "from keras.layers.core import Dense, Activation\n",
    "from keras.layers import Embedding, Flatten,LSTM\n",
    "from keras.optimizers import Adam,SGD\n",
    "from keras.utils import np_utils\n",
    "from keras.preprocessing.text import one_hot, Tokenizer\n",
    "from keras.preprocessing.sequence import pad_sequences\n",
    "import pickle as pickle"
   ]
  },
  {
   "cell_type": "code",
   "execution_count": 7,
   "metadata": {},
   "outputs": [
    {
     "data": {
      "text/plain": [
       "422419"
      ]
     },
     "execution_count": 7,
     "metadata": {},
     "output_type": "execute_result"
    }
   ],
   "source": [
    "data = pd.read_csv('../data/uci-news-aggregator.csv')\n",
    "len(data)"
   ]
  },
  {
   "cell_type": "code",
   "execution_count": 11,
   "metadata": {
    "scrolled": true
   },
   "outputs": [
    {
     "data": {
      "text/plain": [
       "<matplotlib.axes._subplots.AxesSubplot at 0x7fe8be9318d0>"
      ]
     },
     "execution_count": 11,
     "metadata": {},
     "output_type": "execute_result"
    },
    {
     "data": {
      "image/png": "[encoded data removed]",
      "text/plain": [
       "<matplotlib.figure.Figure at 0x7fe8be93a668>"
      ]
     },
     "metadata": {},
     "output_type": "display_data"
    }
   ],
   "source": [
    "data = data.sample(frac=1.0)\n",
    "data_train = data[['TITLE','CATEGORY']][0:400000]\n",
    "data_test = data[['TITLE','CATEGORY']][400000:]\n",
    "\n",
    "data_train['CATEGORY'].hist()\n",
    "data_test['CATEGORY'].hist()\n"
   ]
  },
  {
   "cell_type": "code",
   "execution_count": 12,
   "metadata": {},
   "outputs": [],
   "source": [
    "vocab_size = 1500\n",
    "max_seq_len = 25\n",
    "Hidden_1 = 128\n",
    "Categories = 4\n",
    "Optimizer = Adam()\n",
    "Epochs = 3\n",
    "Verbose = 1\n",
    "Batch_size = 5000"
   ]
  },
  {
   "cell_type": "code",
   "execution_count": 21,
   "metadata": {},
   "outputs": [
    {
     "name": "stdout",
     "output_type": "stream",
     "text": [
      "[0. 0. 0. ... 0. 0. 0.]\n"
     ]
    }
   ],
   "source": [
    "tokenize = Tokenizer(num_words=vocab_size)\n",
    "tokenize.fit_on_texts(data_train['TITLE'])\n",
    "x_train = tokenize.texts_to_matrix(data_train['TITLE'])\n",
    "x_test = tokenize.texts_to_matrix(data_test['TITLE'])\n",
    "print(x_train[0])\n",
    "y_train = pd.get_dummies(data_train['CATEGORY'])\n",
    "y_test = pd.get_dummies(data_test['CATEGORY'])"
   ]
  },
  {
   "cell_type": "code",
   "execution_count": 39,
   "metadata": {},
   "outputs": [
    {
     "name": "stdout",
     "output_type": "stream",
     "text": [
      "_________________________________________________________________\n",
      "Layer (type)                 Output Shape              Param #   \n",
      "=================================================================\n",
      "dense_6 (Dense)              (None, 512)               768512    \n",
      "_________________________________________________________________\n",
      "activation_4 (Activation)    (None, 512)               0         \n",
      "_________________________________________________________________\n",
      "dense_7 (Dense)              (None, 4)                 2052      \n",
      "_________________________________________________________________\n",
      "activation_5 (Activation)    (None, 4)                 0         \n",
      "=================================================================\n",
      "Total params: 770,564\n",
      "Trainable params: 770,564\n",
      "Non-trainable params: 0\n",
      "_________________________________________________________________\n",
      "None\n"
     ]
    }
   ],
   "source": [
    "model = Sequential()\n",
    "model.add(Dense(512, input_shape=(vocab_size,)))\n",
    "model.add(Activation('relu'))\n",
    "model.add(Dense(Categories))\n",
    "model.add(Activation('sigmoid'))\n",
    "# compile the model\n",
    "model.compile(optimizer=Optimizer, loss='categorical_crossentropy', metrics=['acc'])\n",
    "# summarize the model\n",
    "print(model.summary())"
   ]
  },
  {
   "cell_type": "code",
   "execution_count": 40,
   "metadata": {
    "scrolled": true
   },
   "outputs": [
    {
     "name": "stdout",
     "output_type": "stream",
     "text": [
      "Train on 360000 samples, validate on 40000 samples\n",
      "Epoch 1/3\n",
      "360000/360000 [==============================] - 37s 103us/step - loss: 0.5666 - acc: 0.8005 - val_loss: 0.3939 - val_acc: 0.8498\n",
      "Epoch 2/3\n",
      "360000/360000 [==============================] - 36s 100us/step - loss: 0.3802 - acc: 0.8563 - val_loss: 0.3748 - val_acc: 0.8590\n",
      "Epoch 3/3\n",
      "360000/360000 [==============================] - 36s 100us/step - loss: 0.3584 - acc: 0.8648 - val_loss: 0.3611 - val_acc: 0.8639\n",
      "22419/22419 [==============================] - 2s 76us/step\n",
      "Accuracy: 86.346403\n"
     ]
    }
   ],
   "source": [
    "# fit the model\n",
    "model.fit(x_train, y_train, batch_size=Batch_size,epochs=Epochs, verbose=Verbose,validation_split=0.1)\n",
    "# evaluate the model\n",
    "loss, accuracy = model.evaluate(x_test, y_test, verbose= Verbose)\n",
    "print('Accuracy: %f' % (accuracy*100))"
   ]
  },
  {
   "cell_type": "code",
   "execution_count": 61,
   "metadata": {},
   "outputs": [],
   "source": [
    "model.save('../models/model_v1.1_sigmoid.h5')\n",
    "# saving\n",
    "with open('../models/tokenizer_v1.1_sigmoid.pickle', 'wb') as handle:\n",
    "    pickle.dump(tokenize, handle, protocol=pickle.HIGHEST_PROTOCOL)\n"
   ]
  },
  {
   "cell_type": "code",
   "execution_count": 67,
   "metadata": {},
   "outputs": [
    {
     "name": "stdout",
     "output_type": "stream",
     "text": [
      "                                                   TITLE CATEGORY\n",
      "65130  Facebook starts work on drones to provide Inte...        t\n",
      "3\n",
      "                                                    TITLE CATEGORY\n",
      "330087  Obamacare's 2015 Outlook Goes From Poor to Cri...        b\n",
      "0\n",
      "                                                  TITLE CATEGORY\n",
      "307135  Siemens, Mitsubishi Improves Their Alstom Offer        b\n",
      "0\n",
      "                                                    TITLE CATEGORY\n",
      "104053  Gossip site says Justin Bieber and Selena Gome...        e\n",
      "1\n",
      "                                                    TITLE CATEGORY\n",
      "290342  UPDATE 1-Airbus, Safran team up on response to...        b\n",
      "0\n"
     ]
    }
   ],
   "source": [
    "for i in range(30,35):\n",
    "    pred = model.predict(np.array([x_test[i]]))\n",
    "    print(data_test[i:i+1])\n",
    "    print(pred.argmax())\n",
    "   "
   ]
  }
 ],
 "metadata": {
  "kernelspec": {
   "display_name": "env",
   "language": "python",
   "name": "env"
  },
  "language_info": {
   "codemirror_mode": {
    "name": "ipython",
    "version": 3
   },
   "file_extension": ".py",
   "mimetype": "text/x-python",
   "name": "python",
   "nbconvert_exporter": "python",
   "pygments_lexer": "ipython3",
   "version": "3.6.4"
  }
 },
 "nbformat": 4,
 "nbformat_minor": 2
}
