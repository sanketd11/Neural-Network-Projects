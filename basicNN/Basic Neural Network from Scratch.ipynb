{
 "cells": [
  {
   "cell_type": "markdown",
   "metadata": {},
   "source": [
    "# Train a neural network classifier for XOR gate\n",
    "### Total 3 layers \n",
    "- Input\n",
    "- Hidden (6 nodes) \n",
    "- output (1 node)\n",
    "\n",
    "### Activation function:\n",
    "- Sigmoid"
   ]
  },
  {
   "cell_type": "code",
   "execution_count": 156,
   "metadata": {},
   "outputs": [],
   "source": [
    "import numpy as np\n",
    "from matplotlib import pyplot as plt\n",
    "import random"
   ]
  },
  {
   "cell_type": "code",
   "execution_count": 92,
   "metadata": {},
   "outputs": [
    {
     "data": {
      "text/plain": [
       "(4, 1)"
      ]
     },
     "execution_count": 92,
     "metadata": {},
     "output_type": "execute_result"
    }
   ],
   "source": [
    "#Training data XOR gate\n",
    "#input\n",
    "x = np.array([[1,1],[1,0],[0,1],[0,0]],dtype=np.float128)\n",
    "\n",
    "#output\n",
    "y = np.array([[0,1,1,0]],dtype=np.float128)\n",
    "y=y.T"
   ]
  },
  {
   "cell_type": "code",
   "execution_count": 165,
   "metadata": {
    "scrolled": false
   },
   "outputs": [
    {
     "name": "stdout",
     "output_type": "stream",
     "text": [
      "Error: 0.49823608906145611108\n",
      "Error: 0.046057890490246278237\n",
      "Error: 0.02634008901286700316\n",
      "Error: 0.019794899626095516926\n",
      "Error: 0.0163316005765196115\n",
      "Error: 0.014129882971748945059\n",
      "Error: 0.012582321908864812013\n",
      "Error: 0.011422957127306921157\n",
      "Error: 0.010515188345050262633\n",
      "Error: 0.0097809766633749784664\n",
      "[[0.01199634]\n",
      " [0.99010599]\n",
      " [0.99006645]\n",
      " [0.00486511]]\n"
     ]
    },
    {
     "data": {
      "image/png": "[encoded data removed]",
      "text/plain": [
       "<matplotlib.figure.Figure at 0x7f09e6b02470>"
      ]
     },
     "metadata": {},
     "output_type": "display_data"
    }
   ],
   "source": [
    "# input -> hidden layer -> output\n",
    "# activation sigmoid\n",
    "\n",
    "\n",
    "# hidden layer with 6 nodes W =6x2 b =1x6\n",
    "W_1 = np.random.rand(6,2)\n",
    "b_1 = np.random.rand(1,6)\n",
    "\n",
    "#output layer W = 1x6 b = 1x6\n",
    "\n",
    "W_2 = np.random.rand(1,6)\n",
    "b_2 = np.random.rand(1,1)\n",
    "\n",
    "\n",
    "W = {0: W_1,1: W_2}\n",
    "b = {0: b_1, 1: b_2}\n",
    "\n",
    "def sigmoid(x):\n",
    "    \"\"\" Activation Function.\n",
    "    \n",
    "    :param x: input value or vector\n",
    "    :returns: 1/(1+np.exp(-x))\n",
    "    \"\"\"\n",
    "    \n",
    "    return 1.0/(1.0 + np.exp(- x))\n",
    "\n",
    "\n",
    "\n",
    "def sigmoid_prime(x):\n",
    "    \"\"\"Derivative of activation function\n",
    "    \n",
    "    :param x: input value or vector\n",
    "    :returns: sigmoid(x)*(1.0- sigmoid(x))\n",
    "    \"\"\"\n",
    "    \n",
    "    return sigmoid(x)*(1.0- sigmoid(x))\n",
    "\n",
    "\n",
    "\n",
    "def forward_pass(x,W,b):\n",
    "    \"\"\"Runs the inputs through all the layers(forward pass)\n",
    "    \n",
    "    :param x: input data(batch data)\n",
    "    :param W: Weights dictionary for all the layers\n",
    "    :param b: Bias dictionary for all the layers\n",
    "    \n",
    "    :returns Z,H: x.W +b, f(x.W +b) for all the layers\n",
    "    \"\"\"\n",
    "    \n",
    "    Z ={}\n",
    "    H ={}\n",
    "    for i in range(len(W)):\n",
    "        if i == 0:\n",
    "            Z[i] = np.dot(x,W[i].T) + b[i]\n",
    "        else:\n",
    "            Z[i] = np.dot(H[i-1],W[i].T) + b[i]\n",
    "        \n",
    "        #activity\n",
    "        H[i] = sigmoid(Z[i]) \n",
    "    \n",
    "    return Z,H\n",
    "\n",
    "\n",
    "def train(x,W,b,y,lr=0.1):\n",
    "    \"\"\"Train the classifier\n",
    "    \n",
    "    :param x: input data(batch data)\n",
    "    :param W: Weights dictionary for all the layers\n",
    "    :param b: Bias dictionary for all the layers\n",
    "    :param y: true values \n",
    "    :param lr: learning rate\n",
    "    \n",
    "    :returns W,b: final weights and bises dictionary for al the layers\n",
    "    \"\"\"\n",
    "    \n",
    "    errortrack =[]\n",
    "    for i in range(100000):\n",
    "        Z,H = forward_pass(x,W,b)\n",
    "        \n",
    "#         print(H)\n",
    "        \n",
    "        #error calculation\n",
    "        layer2_error = (y - H[1])\n",
    "        if i%10000 == 0:\n",
    "            error = np.mean(abs(layer2_error))\n",
    "            errortrack.append((error,i))\n",
    "            print(\"Error:\",error)\n",
    "        \n",
    "        layer2_delta = layer2_error*sigmoid_prime(Z[1])\n",
    "        \n",
    "        layer1_error = np.dot(layer2_delta,W[1])\n",
    "        layer1_delta = layer1_error*sigmoid_prime(Z[0])\n",
    "        \n",
    "        #update the weight and bias\n",
    "        W[1] += lr*np.dot(layer2_delta.T,H[0])\n",
    "        b[1] += lr*np.sum(layer2_delta,axis=0, keepdims=True)\n",
    "        \n",
    "        \n",
    "        \n",
    "        \n",
    "        W[0] += lr*np.dot(layer1_delta.T,x)\n",
    "        b[0] += lr*np.sum(layer1_delta, axis=0, keepdims=True)\n",
    "\n",
    "       \n",
    "    print(H[1])\n",
    "    err, epoch = zip(*errortrack)\n",
    "    plt.plot(epoch,err)\n",
    "    plt.xlabel(\"Epochs\")\n",
    "    plt.ylabel(\"Error\")\n",
    "    plt.title(\"Training neural network for XOR\")\n",
    "    plt.show()\n",
    "    return W,b\n",
    "\n",
    "\n",
    "    \n",
    "W,b =train(x,W,b,y)\n",
    "\n"
   ]
  },
  {
   "cell_type": "code",
   "execution_count": 153,
   "metadata": {},
   "outputs": [
    {
     "data": {
      "text/plain": [
       "array([[0.00627565]])"
      ]
     },
     "execution_count": 153,
     "metadata": {},
     "output_type": "execute_result"
    }
   ],
   "source": [
    "#Test run\n",
    "Z,H = forward_pass(np.array([0,0]), W, b)\n",
    "H[1]\n",
    "                  "
   ]
  }
 ],
 "metadata": {
  "kernelspec": {
   "display_name": "Python 3",
   "language": "python",
   "name": "python3"
  },
  "language_info": {
   "codemirror_mode": {
    "name": "ipython",
    "version": 3
   },
   "file_extension": ".py",
   "mimetype": "text/x-python",
   "name": "python",
   "nbconvert_exporter": "python",
   "pygments_lexer": "ipython3",
   "version": "3.6.4"
  }
 },
 "nbformat": 4,
 "nbformat_minor": 2
}
