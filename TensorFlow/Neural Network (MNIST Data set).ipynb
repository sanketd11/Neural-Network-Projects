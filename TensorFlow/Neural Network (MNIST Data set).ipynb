{
 "cells": [
  {
   "cell_type": "code",
   "execution_count": 1,
   "metadata": {
    "collapsed": true
   },
   "outputs": [
    {
     "data": {
      "text/plain": [
       "'\\nMNIST dataset\\n\\n60k training examples\\n10k test examples\\n\\nEach pixel is the feature to be used\\n\\ninput > weights > hidden layer 1 > Activation() > weights > hidden layer 2 > Activation() > weights > output\\n\\ncost/loss function to compare the output with intended output\\n\\nEntropy : How close we are to intended output\\n\\nCost optimizer function > minimization of cost\\n\\nback propogation to adjust the weights\\n'"
      ]
     },
     "execution_count": 1,
     "metadata": {},
     "output_type": "execute_result"
    }
   ],
   "source": [
    "'''\n",
    "MNIST dataset\n",
    "\n",
    "60k training examples\n",
    "10k test examples\n",
    "\n",
    "Each pixel is the feature to be used\n",
    "\n",
    "input > weights > hidden layer 1 > Activation() > weights > hidden layer 2 > Activation() > weights > output\n",
    "\n",
    "cost/loss function to compare the output with intended output\n",
    "\n",
    "Entropy : How close we are to intended output\n",
    "\n",
    "Cost optimizer function > minimization of cost\n",
    "\n",
    "back propogation to adjust the weights\n",
    "'''"
   ]
  },
  {
   "cell_type": "code",
   "execution_count": 2,
   "metadata": {},
   "outputs": [],
   "source": [
    "import tensorflow as tf\n",
    "from tensorflow.examples.tutorials.mnist import input_data"
   ]
  },
  {
   "cell_type": "code",
   "execution_count": 3,
   "metadata": {
    "collapsed": true
   },
   "outputs": [
    {
     "name": "stdout",
     "output_type": "stream",
     "text": [
      "Successfully downloaded train-images-idx3-ubyte.gz 9912422 bytes.\n",
      "Extracting /tmp/Data/train-images-idx3-ubyte.gz\n",
      "Successfully downloaded train-labels-idx1-ubyte.gz 28881 bytes.\n",
      "Extracting /tmp/Data/train-labels-idx1-ubyte.gz\n",
      "Successfully downloaded t10k-images-idx3-ubyte.gz 1648877 bytes.\n",
      "Extracting /tmp/Data/t10k-images-idx3-ubyte.gz\n",
      "Successfully downloaded t10k-labels-idx1-ubyte.gz 4542 bytes.\n",
      "Extracting /tmp/Data/t10k-labels-idx1-ubyte.gz\n"
     ]
    }
   ],
   "source": [
    "mnist = input_data.read_data_sets('/tmp/Data', one_hot=True)"
   ]
  },
  {
   "cell_type": "code",
   "execution_count": 13,
   "metadata": {},
   "outputs": [
    {
     "name": "stdout",
     "output_type": "stream",
     "text": [
      "Epoch 0 is completed. Loss: 964279.279296875\n",
      "Epoch 1 is completed. Loss: 170745.0341796875\n",
      "Epoch 2 is completed. Loss: 110904.18933105469\n",
      "Epoch 3 is completed. Loss: 82392.71960449219\n",
      "Epoch 4 is completed. Loss: 65537.71258544922\n",
      "Epoch 5 is completed. Loss: 52859.59411621094\n",
      "Epoch 6 is completed. Loss: 43419.286193847656\n",
      "Epoch 7 is completed. Loss: 36887.846252441406\n",
      "Epoch 8 is completed. Loss: 31398.19219970703\n",
      "Epoch 9 is completed. Loss: 26711.62969970703\n",
      "Accuracy : 0.9102\n"
     ]
    }
   ],
   "source": [
    "nodes_h1 = 500\n",
    "nodes_h2 = 500\n",
    "nodes_h3 = 500\n",
    "n_classes = 10\n",
    "batch_size = 1000\n",
    "\n",
    "#data -> height * width > [none, 784]\n",
    "x = tf.placeholder(\"float\", [None, 784])\n",
    "y = tf.placeholder(\"float\")\n",
    "\n",
    "\n",
    "def neural_network_model(data):\n",
    "    # (input*weights)+ biases\n",
    "    \n",
    "    h1 = {\n",
    "        'weights': tf.Variable(tf.random_normal([784, nodes_h1])),\n",
    "        'biases': tf.Variable(tf.random_normal([nodes_h1]))\n",
    "    }\n",
    "    \n",
    "    h2 = {\n",
    "        'weights': tf.Variable(tf.random_normal([nodes_h1, nodes_h2])),\n",
    "        'biases': tf.Variable(tf.random_normal([nodes_h2]))\n",
    "    }\n",
    "    h3 = {\n",
    "        'weights': tf.Variable(tf.random_normal([nodes_h2, nodes_h3])),\n",
    "        'biases': tf.Variable(tf.random_normal([nodes_h3]))\n",
    "    }\n",
    "    o_layer = {\n",
    "        'weights': tf.Variable(tf.random_normal([nodes_h3, n_classes])),\n",
    "        'biases': tf.Variable(tf.random_normal([n_classes]))\n",
    "    }\n",
    "    \n",
    "    l1 = tf.add(tf.matmul(data, h1['weights']), h1['biases'])\n",
    "    l1 = tf.nn.relu(l1)\n",
    "    \n",
    "    l2 = tf.add(tf.matmul(l1, h2['weights']), h2['biases'])\n",
    "    l2 = tf.nn.relu(l2)\n",
    "    \n",
    "    l3 = tf.add(tf.matmul(l2, h3['weights']), h3['biases'])\n",
    "    l3 = tf.nn.relu(l3)\n",
    "    \n",
    "    output = tf.add(tf.matmul(l3,o_layer['weights']), o_layer['biases'])\n",
    "    \n",
    "    return output\n",
    "    \n",
    "\n",
    "def train_neural_network():\n",
    "    prediction = neural_network_model(x)\n",
    "    cost = tf.reduce_mean(tf.nn.softmax_cross_entropy_with_logits_v2(logits =prediction,labels=y))\n",
    "    optimize = tf.train.AdamOptimizer().minimize(cost)\n",
    "    \n",
    "    num_epochs = 10\n",
    "    with tf.Session() as sess:\n",
    "        sess.run(tf.initialize_all_variables())\n",
    "        \n",
    "        for epoch in range(num_epochs):\n",
    "            epoch_loss = 0\n",
    "            for _ in range(int(mnist.train.num_examples/batch_size)):\n",
    "                epoch_x, epoch_y = mnist.train.next_batch(batch_size)\n",
    "                \n",
    "                _, c = sess.run([optimize, cost], feed_dict={x : epoch_x, y: epoch_y} )\n",
    "                \n",
    "                epoch_loss += c\n",
    "            \n",
    "            print(\"Epoch\", epoch, \"is completed. Loss:\", epoch_loss)\n",
    "    \n",
    "        correct = tf.equal(tf.argmax(prediction,1), tf.arg_max(y, 1))\n",
    "        accuracy = tf.reduce_mean(tf.cast(correct, \"float\"))\n",
    "\n",
    "        print(\"Accuracy :\", sess.run(accuracy, feed_dict={x: mnist.test.images, y: mnist.test.labels}))\n",
    "\n",
    "    \n",
    "    \n",
    "train_neural_network()   \n",
    "    "
   ]
  }
 ],
 "metadata": {
  "kernelspec": {
   "display_name": "env",
   "language": "python",
   "name": "env"
  },
  "language_info": {
   "codemirror_mode": {
    "name": "ipython",
    "version": 3
   },
   "file_extension": ".py",
   "mimetype": "text/x-python",
   "name": "python",
   "nbconvert_exporter": "python",
   "pygments_lexer": "ipython3",
   "version": "3.6.4"
  }
 },
 "nbformat": 4,
 "nbformat_minor": 2
}
